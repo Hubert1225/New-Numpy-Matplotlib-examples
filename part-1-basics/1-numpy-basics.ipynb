{
 "cells": [
  {
   "cell_type": "markdown",
   "id": "3884fe1d-70b6-409c-bbb6-9913ad8eade7",
   "metadata": {},
   "source": [
    "# NumPy basics\n",
    "\n",
    "This notebook stands for introduction to and presentation of NumPy - powerful Python library\n",
    "for numerical computation."
   ]
  },
  {
   "cell_type": "markdown",
   "id": "c5142bca-ea4e-42d4-9394-b6d4bcc0c6f9",
   "metadata": {},
   "source": [
    "### What does NumPy contain?\n",
    "\n",
    "NumPy provides tools for conducting numerical computations in Python. It allows to do it\n",
    "faster and more conveniently.\n",
    "\n",
    "Basically, NumPy provides:\n",
    "\n",
    "- n-dimensional arrays (_ndarrays_)\n",
    "- functions to manipulate these arrays\n",
    "\n",
    "By convention, we import NumPy using _np_ alias."
   ]
  },
  {
   "cell_type": "code",
   "execution_count": 1,
   "id": "ff184ffc-7a7c-4345-9d09-60491c838325",
   "metadata": {
    "tags": []
   },
   "outputs": [],
   "source": [
    "import numpy as np"
   ]
  },
  {
   "cell_type": "code",
   "execution_count": 2,
   "id": "027c1777-8cd2-4a20-8e71-3da84c8a0e6e",
   "metadata": {
    "tags": []
   },
   "outputs": [
    {
     "name": "stdout",
     "output_type": "stream",
     "text": [
      "[0 1 2 3 4 5 6]\n"
     ]
    }
   ],
   "source": [
    "some_array = np.array([0,1,2,3,4,5,6])\n",
    "print(some_array)"
   ]
  },
  {
   "cell_type": "markdown",
   "id": "91e73201-50ca-4acd-8cf8-425e075a5806",
   "metadata": {},
   "source": [
    "### ndarray\n",
    "\n",
    "Multidimensional array class in NumPy is _ndarray_ (also known as _array_, which is its alias).\n",
    "It is an array that contain elements of one type and can have many dimensons."
   ]
  },
  {
   "cell_type": "code",
   "execution_count": 3,
   "id": "82379c1d-bc2e-44af-9801-05d6c8ac49df",
   "metadata": {
    "tags": []
   },
   "outputs": [
    {
     "name": "stdout",
     "output_type": "stream",
     "text": [
      "[1 2 3 4]\n"
     ]
    }
   ],
   "source": [
    "# example array - np.array() function creates array from a sequence\n",
    "one_dim_array = np.array([1,2,3,4])\n",
    "print(one_dim_array)"
   ]
  },
  {
   "cell_type": "code",
   "execution_count": 4,
   "id": "d8ca124f-a6d1-4c44-998c-f3abfedbe7bf",
   "metadata": {
    "tags": []
   },
   "outputs": [
    {
     "name": "stdout",
     "output_type": "stream",
     "text": [
      "[[11 12 13]\n",
      " [21 22 23]\n",
      " [31 32 33]]\n",
      "\n",
      "\n",
      "[[[111 112 113]\n",
      "  [121 122 123]\n",
      "  [131 132 133]]\n",
      "\n",
      " [[211 212 213]\n",
      "  [221 222 223]\n",
      "  [231 232 233]]]\n"
     ]
    }
   ],
   "source": [
    "# two dimensional array - lists of lists\n",
    "two_dim_array = np.array([[11, 12, 13],\n",
    "                         [21, 22, 23],\n",
    "                         [31, 32, 33]])\n",
    "print(two_dim_array)\n",
    "print('\\n')\n",
    "# can be more dimensions - analogously\n",
    "three_dim_array = np.array([\n",
    "                             [[111, 112, 113],\n",
    "                             [121, 122, 123],\n",
    "                             [131, 132, 133]],\n",
    "                            [[211, 212, 213],\n",
    "                             [221, 222, 223],\n",
    "                             [231, 232, 233]]\n",
    "                           ])\n",
    "print(three_dim_array)"
   ]
  },
  {
   "cell_type": "markdown",
   "id": "54e2e975-2b71-46aa-a7e1-ea8cda17aa41",
   "metadata": {},
   "source": [
    "We have three arrays objects above - _one_dim_array_ has one dimension, _two_dim_array_ has two dimensions and _three_dim_array_ is three-dimensional.\n",
    "\n",
    "n-dimensional ndarray has n _axes_ (0, 1, ..., n-1), each axes is a _direction_ towards some dimension.\n",
    "\n",
    "Important thing: the axis printed from left to right is the _last_ axis, next are printed from top to bottom.\n",
    "\n",
    "For example, _three_dim_array_ can be thought as two matrices with numbered matrices, matrices rows and matrices columns. Axis 2 (last axis) goes through indexes of matrices columns. Axis 1 goes through indexes of matrices rows. Axis 0 goes through indexes of matrices.\n",
    "\n",
    "We demontrate this by calculating sums of elements over each axis."
   ]
  },
  {
   "cell_type": "code",
   "execution_count": 5,
   "id": "5d717d29-c29d-4a42-b108-28480c669c85",
   "metadata": {
    "tags": []
   },
   "outputs": [
    {
     "data": {
      "text/plain": [
       "array([[336, 366, 396],\n",
       "       [636, 666, 696]])"
      ]
     },
     "execution_count": 5,
     "metadata": {},
     "output_type": "execute_result"
    }
   ],
   "source": [
    "# sum over axis 2 - each element stands for one matrix' one row sum\n",
    "# (because axis goes through numbers of matrix' columns)\n",
    "np.sum(three_dim_array, axis=2)"
   ]
  },
  {
   "cell_type": "code",
   "execution_count": 6,
   "id": "60ae93a0-2605-4b8b-8676-a6f9496648f9",
   "metadata": {
    "tags": []
   },
   "outputs": [
    {
     "data": {
      "text/plain": [
       "array([[363, 366, 369],\n",
       "       [663, 666, 669]])"
      ]
     },
     "execution_count": 6,
     "metadata": {},
     "output_type": "execute_result"
    }
   ],
   "source": [
    "np.sum(three_dim_array, axis=1)"
   ]
  },
  {
   "cell_type": "code",
   "execution_count": 7,
   "id": "bd215eac-d93b-4c08-b96f-06df11fc4b17",
   "metadata": {
    "tags": []
   },
   "outputs": [
    {
     "data": {
      "text/plain": [
       "array([[322, 324, 326],\n",
       "       [342, 344, 346],\n",
       "       [362, 364, 366]])"
      ]
     },
     "execution_count": 7,
     "metadata": {},
     "output_type": "execute_result"
    }
   ],
   "source": [
    "np.sum(three_dim_array, axis=0)"
   ]
  },
  {
   "cell_type": "markdown",
   "id": "98ba2f0b-d79f-4b88-aeaa-def252e7b9fd",
   "metadata": {},
   "source": [
    "We can see array's properties."
   ]
  },
  {
   "cell_type": "code",
   "execution_count": 8,
   "id": "ca820253-4d95-4354-b46b-4d5f39078937",
   "metadata": {
    "tags": []
   },
   "outputs": [
    {
     "data": {
      "text/plain": [
       "3"
      ]
     },
     "execution_count": 8,
     "metadata": {},
     "output_type": "execute_result"
    }
   ],
   "source": [
    "# number of dimensions\n",
    "three_dim_array.ndim"
   ]
  },
  {
   "cell_type": "code",
   "execution_count": 9,
   "id": "cffe50c7-f140-48ed-8678-55e9e7e3baa7",
   "metadata": {
    "tags": []
   },
   "outputs": [
    {
     "data": {
      "text/plain": [
       "(2, 3, 3)"
      ]
     },
     "execution_count": 9,
     "metadata": {},
     "output_type": "execute_result"
    }
   ],
   "source": [
    "# number of elements in each dimension (over each axis)\n",
    "three_dim_array.shape"
   ]
  },
  {
   "cell_type": "code",
   "execution_count": 10,
   "id": "fcc1a277-8cde-4f31-8e23-494b0b57c2d7",
   "metadata": {
    "tags": []
   },
   "outputs": [
    {
     "data": {
      "text/plain": [
       "8"
      ]
     },
     "execution_count": 10,
     "metadata": {},
     "output_type": "execute_result"
    }
   ],
   "source": [
    "# number of bytes one element occupy\n",
    "three_dim_array.itemsize"
   ]
  },
  {
   "cell_type": "code",
   "execution_count": 11,
   "id": "182369b8-caf0-41b4-8cd1-c5e5823e3d38",
   "metadata": {
    "tags": []
   },
   "outputs": [
    {
     "data": {
      "text/plain": [
       "144"
      ]
     },
     "execution_count": 11,
     "metadata": {},
     "output_type": "execute_result"
    }
   ],
   "source": [
    "# total size in bytes\n",
    "three_dim_array.nbytes"
   ]
  },
  {
   "cell_type": "markdown",
   "id": "7671fd7e-7d44-4517-af4e-ca1b687cec03",
   "metadata": {},
   "source": [
    "### Data types\n",
    "\n",
    "In a NumPy array all of the elements has to be the same type. The type of an array object is called _dtype_."
   ]
  },
  {
   "cell_type": "code",
   "execution_count": 12,
   "id": "352e548e-f085-455c-8a1b-09b46ef1c822",
   "metadata": {
    "tags": []
   },
   "outputs": [
    {
     "data": {
      "text/plain": [
       "dtype('int64')"
      ]
     },
     "execution_count": 12,
     "metadata": {},
     "output_type": "execute_result"
    }
   ],
   "source": [
    "# data type\n",
    "three_dim_array.dtype"
   ]
  },
  {
   "cell_type": "markdown",
   "id": "011dc2f1-4397-4b13-b348-c1da102904c9",
   "metadata": {},
   "source": [
    "We can fit datatype to our purpose."
   ]
  },
  {
   "cell_type": "code",
   "execution_count": 13,
   "id": "50a28964-d824-4443-a04d-c118bd24074a",
   "metadata": {
    "tags": []
   },
   "outputs": [
    {
     "name": "stdout",
     "output_type": "stream",
     "text": [
      "int16\n",
      "2\n"
     ]
    }
   ],
   "source": [
    "# 16-bit int\n",
    "sixteen = np.array([5,3,5,3], dtype='int16')\n",
    "print(sixteen.dtype)\n",
    "print(sixteen.itemsize)"
   ]
  },
  {
   "cell_type": "code",
   "execution_count": 14,
   "id": "44d01310-8168-4281-a376-e487d41be0a4",
   "metadata": {
    "tags": []
   },
   "outputs": [
    {
     "name": "stdout",
     "output_type": "stream",
     "text": [
      "float32\n",
      "4\n"
     ]
    }
   ],
   "source": [
    "# 32-bit floating point number\n",
    "single_prec = np.array([[4.5, 7.86,],\n",
    "                        [5.0, 1.25]], dtype='float32')\n",
    "print(single_prec.dtype)\n",
    "print(single_prec.itemsize)"
   ]
  },
  {
   "cell_type": "code",
   "execution_count": 15,
   "id": "02f06393-79fe-41dc-acc2-a59403ccf014",
   "metadata": {
    "tags": []
   },
   "outputs": [
    {
     "data": {
      "text/plain": [
       "dtype('<U2')"
      ]
     },
     "execution_count": 15,
     "metadata": {},
     "output_type": "execute_result"
    }
   ],
   "source": [
    "string_array = np.array(['gf', 'hh', 'as'])\n",
    "string_array.dtype"
   ]
  },
  {
   "cell_type": "markdown",
   "id": "9a3b2c11-26b4-4246-bde6-b1ea06618001",
   "metadata": {},
   "source": [
    "We can create _structured data types_, which are aggregates of other data types."
   ]
  },
  {
   "cell_type": "code",
   "execution_count": 17,
   "id": "aec583e3-dffb-4a10-a55b-d44f023d793e",
   "metadata": {
    "tags": []
   },
   "outputs": [
    {
     "data": {
      "text/plain": [
       "dtype([('f1', '<u4'), ('f2', '<f8')])"
      ]
     },
     "execution_count": 17,
     "metadata": {},
     "output_type": "execute_result"
    }
   ],
   "source": [
    "# data type object\n",
    "np.dtype([('f1', np.uint32), ('f2', np.float64)])"
   ]
  },
  {
   "cell_type": "markdown",
   "id": "160ec312-db02-4d4b-be6f-5293124aced1",
   "metadata": {},
   "source": [
    "### Arrays indexing\n",
    "\n",
    "How to access values in an array at desired position (or positions)?\n",
    "\n",
    "Arrays can be indexed similarly to Python lists. What makes difference is that arrays\n",
    "has multiple dimensions."
   ]
  },
  {
   "cell_type": "code",
   "execution_count": 18,
   "id": "f5626207-4583-481d-9899-26612e26f84d",
   "metadata": {
    "tags": []
   },
   "outputs": [
    {
     "name": "stdout",
     "output_type": "stream",
     "text": [
      "[[11 12 13]\n",
      " [21 22 23]\n",
      " [31 32 33]] \n",
      "\n",
      "[11 12 13] \n",
      "\n",
      "[11 12 13] \n",
      "\n",
      "12 \n",
      "\n"
     ]
    }
   ],
   "source": [
    "for item in (\n",
    "    two_dim_array,\n",
    "    two_dim_array[0],\n",
    "    two_dim_array[0, :],\n",
    "    two_dim_array[0, 1]\n",
    "):\n",
    "    print(item, '\\n')"
   ]
  },
  {
   "cell_type": "markdown",
   "id": "e8780fed-861f-4f5b-a729-c9311bd0c965",
   "metadata": {},
   "source": [
    "Also an array can be used to index an array - provided it's integer-typed."
   ]
  },
  {
   "cell_type": "code",
   "execution_count": 19,
   "id": "e5fd0ece-eda0-4885-8f79-47ef91e04906",
   "metadata": {
    "tags": []
   },
   "outputs": [
    {
     "name": "stdout",
     "output_type": "stream",
     "text": [
      "[1 2 3 4]\n",
      "[1 3 3 2 1]\n"
     ]
    }
   ],
   "source": [
    "print(one_dim_array)\n",
    "print(\n",
    "    one_dim_array[\n",
    "        np.array([0,2,2,1,0], dtype='int8')\n",
    "    ]\n",
    ")"
   ]
  },
  {
   "cell_type": "markdown",
   "id": "853171d4-ffeb-4095-944f-f4b7a4437361",
   "metadata": {},
   "source": [
    "An array can also be indexed using boolean index."
   ]
  },
  {
   "cell_type": "code",
   "execution_count": 20,
   "id": "82e54dda-d566-40d8-b164-5e224b498f6b",
   "metadata": {
    "tags": []
   },
   "outputs": [
    {
     "data": {
      "text/plain": [
       "array([1, 3])"
      ]
     },
     "execution_count": 20,
     "metadata": {},
     "output_type": "execute_result"
    }
   ],
   "source": [
    "one_dim_array[\n",
    "    [True, False, True, False]\n",
    "]"
   ]
  },
  {
   "cell_type": "markdown",
   "id": "56ea36b7-ce47-4659-a0a9-ccf6f0cbfe42",
   "metadata": {},
   "source": [
    "Numpy provides some utils to find indices that contain items satisfying given condition."
   ]
  },
  {
   "cell_type": "code",
   "execution_count": 21,
   "id": "f54d6ebb-f37a-4d85-b981-cd2d5c7ec688",
   "metadata": {
    "tags": []
   },
   "outputs": [
    {
     "name": "stdout",
     "output_type": "stream",
     "text": [
      "[[11 12 13]\n",
      " [21 22 23]\n",
      " [31 32 33]]\n",
      "[[1 2]\n",
      " [2 0]\n",
      " [2 1]\n",
      " [2 2]]\n"
     ]
    }
   ],
   "source": [
    "print(two_dim_array)\n",
    "\n",
    "# find all indices where an element is greater than 22\n",
    "print(\n",
    "    np.argwhere(two_dim_array > 22)\n",
    ")"
   ]
  },
  {
   "cell_type": "markdown",
   "id": "27be90cc-0934-406d-963c-01ac037b4585",
   "metadata": {},
   "source": [
    "### Create an array\n",
    "\n",
    "There are plenty of ways to create a NumPy array."
   ]
  },
  {
   "cell_type": "code",
   "execution_count": 22,
   "id": "1ac4d569-c916-4813-b971-8a6d9c811e5d",
   "metadata": {
    "tags": []
   },
   "outputs": [
    {
     "data": {
      "text/plain": [
       "array([[1, 2, 3, 4],\n",
       "       [3, 2, 1, 3]])"
      ]
     },
     "execution_count": 22,
     "metadata": {},
     "output_type": "execute_result"
    }
   ],
   "source": [
    "# np.array() function\n",
    "arr = np.array([[1,2,3,4], [3,2,1,3]])\n",
    "arr"
   ]
  },
  {
   "cell_type": "code",
   "execution_count": 23,
   "id": "308588ef-8efc-43a9-b9fe-090c9f670aac",
   "metadata": {
    "tags": []
   },
   "outputs": [
    {
     "data": {
      "text/plain": [
       "array([[ True, False, False],\n",
       "       [ True,  True, False],\n",
       "       [ True,  True,  True]])"
      ]
     },
     "execution_count": 23,
     "metadata": {},
     "output_type": "execute_result"
    }
   ],
   "source": [
    "# using function on indices\n",
    "np.fromfunction(lambda i, j: i >= j, (3,3), dtype=int)"
   ]
  },
  {
   "cell_type": "code",
   "execution_count": 24,
   "id": "2599d4c3-0e58-4712-be40-223489bdfa73",
   "metadata": {
    "tags": []
   },
   "outputs": [
    {
     "data": {
      "text/plain": [
       "array([ 0,  1,  4,  9, 16], dtype=int32)"
      ]
     },
     "execution_count": 24,
     "metadata": {},
     "output_type": "execute_result"
    }
   ],
   "source": [
    "# using iterable object (only 1-d)\n",
    "# count parameter enhances speed\n",
    "np.fromiter((i**2 for i in range(5)), dtype='int32', count=5)"
   ]
  },
  {
   "cell_type": "code",
   "execution_count": 25,
   "id": "d7652435-bd97-4875-a9ae-589c1d461198",
   "metadata": {
    "tags": []
   },
   "outputs": [
    {
     "name": "stdout",
     "output_type": "stream",
     "text": [
      "[[0. 0.]\n",
      " [0. 0.]\n",
      " [0. 0.]\n",
      " [0. 0.]\n",
      " [0. 0.]]\n",
      "[[0 0 0]\n",
      " [0 0 0]\n",
      " [0 0 0]]\n"
     ]
    }
   ],
   "source": [
    "# create array filled with zeros...\n",
    "\n",
    "# ...of desired shape\n",
    "print(np.zeros((5,2)))\n",
    "\n",
    "# ...of the same shape as another array\n",
    "print(np.zeros_like(two_dim_array))"
   ]
  },
  {
   "cell_type": "code",
   "execution_count": 26,
   "id": "7c193dd0-0c51-4a53-88e2-99a3c190f069",
   "metadata": {
    "tags": []
   },
   "outputs": [
    {
     "name": "stdout",
     "output_type": "stream",
     "text": [
      "[[1. 1.]\n",
      " [1. 1.]\n",
      " [1. 1.]\n",
      " [1. 1.]\n",
      " [1. 1.]]\n",
      "[[1 1 1]\n",
      " [1 1 1]\n",
      " [1 1 1]]\n"
     ]
    }
   ],
   "source": [
    "# create array filled with ones\n",
    "print(np.ones((5,2)))\n",
    "print(np.ones_like(two_dim_array))"
   ]
  },
  {
   "cell_type": "code",
   "execution_count": 27,
   "id": "d9f78d91-ad59-4d93-8103-ae44b8f69607",
   "metadata": {
    "tags": []
   },
   "outputs": [
    {
     "name": "stdout",
     "output_type": "stream",
     "text": [
      "[[3.14 3.14]\n",
      " [3.14 3.14]\n",
      " [3.14 3.14]\n",
      " [3.14 3.14]\n",
      " [3.14 3.14]]\n",
      "[[3 3 3]\n",
      " [3 3 3]\n",
      " [3 3 3]]\n"
     ]
    }
   ],
   "source": [
    "# or filled with any other number\n",
    "print(np.full((5,2), 3.14))\n",
    "print(np.full_like(two_dim_array, 3.14))\n",
    "# caution! data type"
   ]
  },
  {
   "cell_type": "code",
   "execution_count": 28,
   "id": "d103bf49-d9aa-4dab-9328-c629f3ce8346",
   "metadata": {
    "tags": []
   },
   "outputs": [
    {
     "data": {
      "text/plain": [
       "array([[3.856e-320, 0.000e+000]])"
      ]
     },
     "execution_count": 28,
     "metadata": {},
     "output_type": "execute_result"
    }
   ],
   "source": [
    "# create array with some values dependent on memory that are to be replaced\n",
    "np.empty((1,2))  # may vary"
   ]
  },
  {
   "cell_type": "code",
   "execution_count": 29,
   "id": "6ca64429-ffd2-4328-92b8-0c18107f41be",
   "metadata": {
    "tags": []
   },
   "outputs": [
    {
     "data": {
      "text/plain": [
       "array([-5,  0,  5, 10, 15, 20, 25, 30, 35, 40, 45, 50, 55, 60, 65, 70, 75,\n",
       "       80, 85, 90, 95])"
      ]
     },
     "execution_count": 29,
     "metadata": {},
     "output_type": "execute_result"
    }
   ],
   "source": [
    "# numpy has its own `range` function\n",
    "np.arange(-5, 100, 5)"
   ]
  },
  {
   "cell_type": "code",
   "execution_count": 30,
   "id": "248b373c-1355-41b1-aaaa-732fdeb91a8c",
   "metadata": {
    "tags": []
   },
   "outputs": [
    {
     "name": "stdout",
     "output_type": "stream",
     "text": [
      "[ 5.  8. 11. 14. 17. 20.]\n",
      "[1.e+05 1.e+08 1.e+11 1.e+14 1.e+17 1.e+20]\n"
     ]
    }
   ],
   "source": [
    "print(np.linspace(5, 20, 6))\n",
    "print(np.logspace(5, 20, 6))"
   ]
  },
  {
   "cell_type": "markdown",
   "id": "3044c4aa-d032-4a51-8e5f-623e784b773a",
   "metadata": {},
   "source": [
    "... and there are much more ways to create a new array.\n",
    "\n",
    "### Maths on arrays\n",
    "\n",
    "How do we perform mathematical operations on arrays?"
   ]
  },
  {
   "cell_type": "code",
   "execution_count": 31,
   "id": "886b83cb-b666-4cbd-b51a-55f6cc49ca12",
   "metadata": {
    "tags": []
   },
   "outputs": [
    {
     "data": {
      "text/plain": [
       "array([[11, 12, 13],\n",
       "       [21, 22, 23],\n",
       "       [31, 32, 33]])"
      ]
     },
     "execution_count": 31,
     "metadata": {},
     "output_type": "execute_result"
    }
   ],
   "source": [
    "ar1 = two_dim_array.copy()\n",
    "ar1"
   ]
  },
  {
   "cell_type": "code",
   "execution_count": 32,
   "id": "46e043a6-d9dd-4446-a647-fbc2da217fb4",
   "metadata": {
    "tags": []
   },
   "outputs": [
    {
     "data": {
      "text/plain": [
       "array([[10, 10, 10],\n",
       "       [20, 20, 20],\n",
       "       [30, 30, 30]])"
      ]
     },
     "execution_count": 32,
     "metadata": {},
     "output_type": "execute_result"
    }
   ],
   "source": [
    "ar2 = np.array([\n",
    "    [10, 10, 10],\n",
    "    [20, 20, 20],\n",
    "    [30, 30, 30]\n",
    "])\n",
    "ar2"
   ]
  },
  {
   "cell_type": "code",
   "execution_count": 33,
   "id": "a48b715d-3a28-4ee9-92c1-687925735942",
   "metadata": {
    "tags": []
   },
   "outputs": [
    {
     "data": {
      "text/plain": [
       "array([[21, 22, 23],\n",
       "       [41, 42, 43],\n",
       "       [61, 62, 63]])"
      ]
     },
     "execution_count": 33,
     "metadata": {},
     "output_type": "execute_result"
    }
   ],
   "source": [
    "# addition\n",
    "ar1 + ar2"
   ]
  },
  {
   "cell_type": "code",
   "execution_count": 34,
   "id": "c67f1146-6691-4e38-b642-30b874330b5a",
   "metadata": {
    "tags": []
   },
   "outputs": [
    {
     "data": {
      "text/plain": [
       "array([[1, 2, 3],\n",
       "       [1, 2, 3],\n",
       "       [1, 2, 3]])"
      ]
     },
     "execution_count": 34,
     "metadata": {},
     "output_type": "execute_result"
    }
   ],
   "source": [
    "# subtraction\n",
    "ar1 - ar2"
   ]
  },
  {
   "cell_type": "code",
   "execution_count": 35,
   "id": "dbc74105-f187-4337-a595-e4c346d7ef0d",
   "metadata": {
    "tags": []
   },
   "outputs": [
    {
     "data": {
      "text/plain": [
       "array([[110, 120, 130],\n",
       "       [420, 440, 460],\n",
       "       [930, 960, 990]])"
      ]
     },
     "execution_count": 35,
     "metadata": {},
     "output_type": "execute_result"
    }
   ],
   "source": [
    "# elementwise multiplication\n",
    "ar1 * ar2"
   ]
  },
  {
   "cell_type": "code",
   "execution_count": 36,
   "id": "33154846-ab01-49e6-96a9-2e0ff9a79ee4",
   "metadata": {
    "tags": []
   },
   "outputs": [
    {
     "data": {
      "text/plain": [
       "array([[1.1       , 1.2       , 1.3       ],\n",
       "       [1.05      , 1.1       , 1.15      ],\n",
       "       [1.03333333, 1.06666667, 1.1       ]])"
      ]
     },
     "execution_count": 36,
     "metadata": {},
     "output_type": "execute_result"
    }
   ],
   "source": [
    "# elementwise division\n",
    "ar1 / ar2"
   ]
  },
  {
   "cell_type": "code",
   "execution_count": 37,
   "id": "ef651522-9c4b-4274-94e5-64d8e434af97",
   "metadata": {
    "tags": []
   },
   "outputs": [
    {
     "data": {
      "text/plain": [
       "array([[ 740,  740,  740],\n",
       "       [1340, 1340, 1340],\n",
       "       [1940, 1940, 1940]])"
      ]
     },
     "execution_count": 37,
     "metadata": {},
     "output_type": "execute_result"
    }
   ],
   "source": [
    "# matrix multiplication\n",
    "ar1 @ ar2"
   ]
  },
  {
   "cell_type": "code",
   "execution_count": 38,
   "id": "47cf637e-3fa9-44c5-8e6b-67f2a75fedf8",
   "metadata": {
    "tags": []
   },
   "outputs": [
    {
     "data": {
      "text/plain": [
       "array([[12, 13, 14],\n",
       "       [23, 24, 25],\n",
       "       [34, 35, 36]])"
      ]
     },
     "execution_count": 38,
     "metadata": {},
     "output_type": "execute_result"
    }
   ],
   "source": [
    "# add a column vector to a matrix?\n",
    "ar1 + np.array([[1], [2], [3]])"
   ]
  },
  {
   "cell_type": "code",
   "execution_count": 39,
   "id": "5ce9b148-5293-4d3f-8f4e-b4aa9fe9a5ae",
   "metadata": {
    "tags": []
   },
   "outputs": [
    {
     "data": {
      "text/plain": [
       "array([[12, 14, 16],\n",
       "       [22, 24, 26],\n",
       "       [32, 34, 36]])"
      ]
     },
     "execution_count": 39,
     "metadata": {},
     "output_type": "execute_result"
    }
   ],
   "source": [
    "# ...and a row vector?\n",
    "ar1 + np.array([1, 2, 3])"
   ]
  },
  {
   "cell_type": "markdown",
   "id": "f4cef038-7917-495e-a42b-a9d98846e509",
   "metadata": {},
   "source": [
    "### Arrays manipulation\n",
    "\n",
    "Here are examples of some useful functions and methods to perform manipulation on arrays."
   ]
  },
  {
   "cell_type": "code",
   "execution_count": 40,
   "id": "e9b66da0-8956-4997-9151-5ed11d3a2d33",
   "metadata": {
    "tags": []
   },
   "outputs": [
    {
     "name": "stdout",
     "output_type": "stream",
     "text": [
      "[1 2 3 4]\n",
      "[[1 2 3 4]]\n",
      "[[1]\n",
      " [2]\n",
      " [3]\n",
      " [4]]\n"
     ]
    }
   ],
   "source": [
    "# reshape an array - same elements but differently organized\n",
    "print(one_dim_array)\n",
    "print(one_dim_array.reshape(1,4))\n",
    "print(one_dim_array.reshape(4,1))"
   ]
  },
  {
   "cell_type": "code",
   "execution_count": 41,
   "id": "4625a0fd-1844-46a1-8578-b96de16733d2",
   "metadata": {
    "tags": []
   },
   "outputs": [
    {
     "data": {
      "text/plain": [
       "array([[1],\n",
       "       [2],\n",
       "       [3],\n",
       "       [4]])"
      ]
     },
     "execution_count": 41,
     "metadata": {},
     "output_type": "execute_result"
    }
   ],
   "source": [
    "# -1 - infer dimension\n",
    "one_dim_array.reshape(-1, 1)"
   ]
  },
  {
   "cell_type": "code",
   "execution_count": 42,
   "id": "22f31c1d-7674-46c2-bcbc-8fbb41fc5829",
   "metadata": {
    "tags": []
   },
   "outputs": [
    {
     "data": {
      "text/plain": [
       "array([111, 112, 113, 121, 122, 123, 131, 132, 133, 211, 212, 213, 221,\n",
       "       222, 223, 231, 232, 233])"
      ]
     },
     "execution_count": 42,
     "metadata": {},
     "output_type": "execute_result"
    }
   ],
   "source": [
    "# use ravel to 'flatten' an array\n",
    "three_dim_array.ravel()"
   ]
  },
  {
   "cell_type": "code",
   "execution_count": 43,
   "id": "b4a71abf-6f5a-4068-b51f-3e5459232ce4",
   "metadata": {
    "tags": []
   },
   "outputs": [
    {
     "data": {
      "text/plain": [
       "array([111, 112, 113, 121, 122, 123, 131, 132, 133, 211, 212, 213, 221,\n",
       "       222, 223, 231, 232, 233])"
      ]
     },
     "execution_count": 43,
     "metadata": {},
     "output_type": "execute_result"
    }
   ],
   "source": [
    "three_dim_array.flatten()"
   ]
  },
  {
   "cell_type": "code",
   "execution_count": 44,
   "id": "4b814e9c-525a-4b77-9801-1e25c7f2c8e2",
   "metadata": {
    "tags": []
   },
   "outputs": [
    {
     "name": "stdout",
     "output_type": "stream",
     "text": [
      "[[0 1 2]\n",
      " [3 4 5]\n",
      " [6 7 8]]\n",
      "[[0 3 6]\n",
      " [1 4 7]\n",
      " [2 5 8]]\n",
      "True\n"
     ]
    }
   ],
   "source": [
    "# transpositions\n",
    "ar = np.arange(9).reshape(3, 3)\n",
    "print(ar)\n",
    "print(ar.transpose())\n",
    "print(np.all(ar.T == ar.transpose()))"
   ]
  },
  {
   "cell_type": "code",
   "execution_count": 45,
   "id": "29a6982e-c92f-41fc-afec-4c9bfad60783",
   "metadata": {
    "tags": []
   },
   "outputs": [
    {
     "name": "stdout",
     "output_type": "stream",
     "text": [
      "[[[0 1]\n",
      "  [2 3]]\n",
      "\n",
      " [[4 5]\n",
      "  [6 7]]]\n",
      "[[[0 4]\n",
      "  [2 6]]\n",
      "\n",
      " [[1 5]\n",
      "  [3 7]]]\n"
     ]
    }
   ],
   "source": [
    "ar = np.arange(8).reshape(2, 2, 2)\n",
    "print(ar)\n",
    "print(ar.transpose())"
   ]
  },
  {
   "cell_type": "code",
   "execution_count": 46,
   "id": "a2c5e548-b9d0-4a71-9396-7609d299da51",
   "metadata": {
    "tags": []
   },
   "outputs": [
    {
     "name": "stdout",
     "output_type": "stream",
     "text": [
      "[[11 12 13]\n",
      " [21 22 23]\n",
      " [31 32 33]] \n",
      "\n",
      "[[10 10 10]\n",
      " [20 20 20]\n",
      " [30 30 30]]\n",
      "\n",
      "concatenate\n",
      " [[11 12 13]\n",
      " [21 22 23]\n",
      " [31 32 33]\n",
      " [10 10 10]\n",
      " [20 20 20]\n",
      " [30 30 30]]\n",
      "\n",
      "concatenate axis=1\n",
      " [[11 12 13 10 10 10]\n",
      " [21 22 23 20 20 20]\n",
      " [31 32 33 30 30 30]]\n",
      "\n",
      "hstack\n",
      " [[11 12 13 10 10 10]\n",
      " [21 22 23 20 20 20]\n",
      " [31 32 33 30 30 30]]\n",
      "\n",
      "vstack\n",
      " [[11 12 13]\n",
      " [21 22 23]\n",
      " [31 32 33]\n",
      " [10 10 10]\n",
      " [20 20 20]\n",
      " [30 30 30]]\n",
      "\n",
      "stack\n",
      " [[[11 12 13]\n",
      "  [21 22 23]\n",
      "  [31 32 33]]\n",
      "\n",
      " [[10 10 10]\n",
      "  [20 20 20]\n",
      "  [30 30 30]]]\n"
     ]
    }
   ],
   "source": [
    "# joining arrays\n",
    "\n",
    "print(ar1, '\\n')\n",
    "print(ar2)\n",
    "\n",
    "print(\n",
    "    \"\\nconcatenate\\n\",\n",
    "    np.concatenate((ar1, ar2))\n",
    ")\n",
    "print(\n",
    "    \"\\nconcatenate axis=1\\n\",\n",
    "    np.concatenate((ar1, ar2), axis=1)\n",
    ")\n",
    "print(\n",
    "    \"\\nhstack\\n\",\n",
    "    np.hstack((ar1, ar2))\n",
    ")\n",
    "print(\n",
    "    \"\\nvstack\\n\",\n",
    "    np.vstack((ar1, ar2))\n",
    ")\n",
    "print(\n",
    "    \"\\nstack\\n\",\n",
    "    np.stack((ar1, ar2))\n",
    ")"
   ]
  },
  {
   "cell_type": "code",
   "execution_count": 47,
   "id": "a3493bf8-8d0a-458a-8f1f-cbe064448b9f",
   "metadata": {
    "tags": []
   },
   "outputs": [
    {
     "data": {
      "text/plain": [
       "array([[11, 12, 13],\n",
       "       [21, 22, 23],\n",
       "       [31, 32, 33],\n",
       "       [-1, -2, -3]])"
      ]
     },
     "execution_count": 47,
     "metadata": {},
     "output_type": "execute_result"
    }
   ],
   "source": [
    "# create new array with additional values\n",
    "np.append(ar1, np.array([[-1, -2, -3]]), axis=0)"
   ]
  },
  {
   "cell_type": "code",
   "execution_count": 48,
   "id": "4bfb08f4-0da8-4924-aa65-176fd14461ae",
   "metadata": {
    "tags": []
   },
   "outputs": [
    {
     "name": "stdout",
     "output_type": "stream",
     "text": [
      "[1 1 1 2 2 2 3 3 3]\n",
      "[1 2 3 1 2 3 1 2 3]\n"
     ]
    }
   ],
   "source": [
    "# repeating\n",
    "print(\n",
    "    np.repeat([1,2,3], 3)\n",
    ")\n",
    "print(\n",
    "    np.tile([1,2,3], 3)\n",
    ")"
   ]
  },
  {
   "cell_type": "code",
   "execution_count": 49,
   "id": "545d0971-6b37-4d19-9216-f3af7fca7e4e",
   "metadata": {
    "tags": []
   },
   "outputs": [
    {
     "name": "stdout",
     "output_type": "stream",
     "text": [
      "[[11 12 13 11 12 13 11 12 13]\n",
      " [21 22 23 21 22 23 21 22 23]\n",
      " [31 32 33 31 32 33 31 32 33]]\n"
     ]
    }
   ],
   "source": [
    "print(\n",
    "    np.tile(ar1, 3)\n",
    ")"
   ]
  },
  {
   "cell_type": "code",
   "execution_count": 50,
   "id": "7ace69f7-77ec-403d-a95e-a65c6f53352e",
   "metadata": {
    "tags": []
   },
   "outputs": [
    {
     "name": "stdout",
     "output_type": "stream",
     "text": [
      "[[ 1.  2.  3.]\n",
      " [ 4.  5. nan]]\n",
      "\n",
      " [[False False False]\n",
      " [False False  True]]\n",
      "\n",
      " True\n",
      "\n",
      " False\n"
     ]
    }
   ],
   "source": [
    "# logic functions - useful for checks\n",
    "ar_with_nan = np.array([[1,2,3], [4,5,np.nan]])\n",
    "print(ar_with_nan)\n",
    "print('\\n', np.isnan(ar_with_nan))\n",
    "print('\\n', np.any(np.isnan(ar_with_nan)))\n",
    "print('\\n', np.any(np.isnan(ar1)))"
   ]
  },
  {
   "cell_type": "code",
   "execution_count": 51,
   "id": "ad632976-9883-4550-bc61-ee2b624a1d50",
   "metadata": {
    "tags": []
   },
   "outputs": [
    {
     "data": {
      "text/plain": [
       "array([False,  True, False])"
      ]
     },
     "execution_count": 51,
     "metadata": {},
     "output_type": "execute_result"
    }
   ],
   "source": [
    "np.logical_and([0,1,1], [1,1,0])"
   ]
  },
  {
   "cell_type": "code",
   "execution_count": 52,
   "id": "fc2d3a96-3f57-406c-87ce-9b534a594b67",
   "metadata": {
    "tags": []
   },
   "outputs": [
    {
     "data": {
      "text/plain": [
       "array([[-1, -1, -1, -1,  1,  1],\n",
       "       [-1, 11, 12, 13,  1,  1],\n",
       "       [-1, 21, 22, 23,  1,  1],\n",
       "       [-1, 31, 32, 33,  1,  1],\n",
       "       [-1,  1,  1,  1,  1,  1],\n",
       "       [-1,  1,  1,  1,  1,  1]])"
      ]
     },
     "execution_count": 52,
     "metadata": {},
     "output_type": "execute_result"
    }
   ],
   "source": [
    "# padding\n",
    "np.pad(ar1, (1,2), 'constant', constant_values=(-1, 1))"
   ]
  },
  {
   "cell_type": "code",
   "execution_count": 53,
   "id": "070541c9-a660-4c68-bfa7-f4006bd67ef2",
   "metadata": {
    "tags": []
   },
   "outputs": [
    {
     "data": {
      "text/plain": [
       "array([[15, 15, 15],\n",
       "       [21, 22, 23],\n",
       "       [30, 30, 30]])"
      ]
     },
     "execution_count": 53,
     "metadata": {},
     "output_type": "execute_result"
    }
   ],
   "source": [
    "# clip an array\n",
    "# (values outside some range are replaced by the range boundary values)\n",
    "np.clip(ar1, a_min=15, a_max=30)"
   ]
  },
  {
   "cell_type": "code",
   "execution_count": 54,
   "id": "4c790511-965a-4fb2-9724-93085afe1eac",
   "metadata": {
    "tags": []
   },
   "outputs": [
    {
     "name": "stdout",
     "output_type": "stream",
     "text": [
      "[[[0 1 2]]\n",
      "\n",
      " [[3 4 5]]] \n",
      "\n",
      "[[0 1 2]\n",
      " [3 4 5]]\n"
     ]
    }
   ],
   "source": [
    "# if you have an array with an axis of length one,\n",
    "# you can _squeeze_ it\n",
    "\n",
    "ar = np.arange(6).reshape(2,1,3)\n",
    "print(ar, '\\n')\n",
    "print(np.squeeze(ar, axis=1))"
   ]
  },
  {
   "cell_type": "markdown",
   "id": "e26bbe9e-808c-48a1-91f5-c07b6219e75c",
   "metadata": {},
   "source": [
    "and much more...\n",
    "\n",
    "### \"True\" copies and views\n",
    "\n",
    "Consider an example:"
   ]
  },
  {
   "cell_type": "code",
   "execution_count": 55,
   "id": "9b803de3-a9bc-4399-96fe-bf88cb656f72",
   "metadata": {
    "tags": []
   },
   "outputs": [
    {
     "data": {
      "text/plain": [
       "array([   0,    1, -100,    3])"
      ]
     },
     "execution_count": 55,
     "metadata": {},
     "output_type": "execute_result"
    }
   ],
   "source": [
    "array_a = np.array([0, 1, 2, 3])\n",
    "array_b = array_a\n",
    "array_b[2] = -100\n",
    "array_a"
   ]
  },
  {
   "cell_type": "markdown",
   "id": "057893da-8705-4a94-961c-81f9640bd468",
   "metadata": {},
   "source": [
    "Even though we haven't modify _array\\_a_ directly, it's been modified as we modified _array\\_b_.\n",
    "It's because _array\\_a_ and _array\\_b_ variables in fact indicate the same object."
   ]
  },
  {
   "cell_type": "code",
   "execution_count": 56,
   "id": "9ddecec1-b0f2-482b-98b3-93b7d1f336e0",
   "metadata": {
    "tags": []
   },
   "outputs": [
    {
     "data": {
      "text/plain": [
       "True"
      ]
     },
     "execution_count": 56,
     "metadata": {},
     "output_type": "execute_result"
    }
   ],
   "source": [
    "id(array_a) == id(array_b)"
   ]
  },
  {
   "cell_type": "markdown",
   "id": "1483a7a0-d4ec-4aa6-8b5a-68c3c4e52e19",
   "metadata": {},
   "source": [
    "Another example..."
   ]
  },
  {
   "cell_type": "code",
   "execution_count": 57,
   "id": "aad6e03c-190e-4c26-a5bd-4925d034e088",
   "metadata": {
    "tags": []
   },
   "outputs": [
    {
     "data": {
      "text/plain": [
       "array([   0, -122, -121,    3])"
      ]
     },
     "execution_count": 57,
     "metadata": {},
     "output_type": "execute_result"
    }
   ],
   "source": [
    "array_a = np.array([0, 1, 2, 3])\n",
    "array_a_subset = array_a[1:3]\n",
    "np.add.at(array_a_subset, [0, 1], -123)\n",
    "array_a"
   ]
  },
  {
   "cell_type": "markdown",
   "id": "cba3ba0e-1731-4e50-8a4b-67743991173a",
   "metadata": {},
   "source": [
    "What happened?\n",
    "\n",
    "The _array\\_a\\_subset_ variable contains the subset of _array\\_a_ that has been returned by the array indexing.\n",
    "Basic indexing always creates views. A _view_ is a way to access data in an array without physical copying\n",
    "of this data. As the data remains the same, any changes made on a view modifies the original array as well.\n",
    "At the third line, we invoke _np.add.at_ function, which modifies the array subset variable in some way -\n",
    "what is important here is that the _np.add.at_ works in place, so it has modified the data accessed with the view.\n",
    "\n",
    "So, is there a way to physically ('truly') copy an array? Use _.copy_ method:"
   ]
  },
  {
   "cell_type": "code",
   "execution_count": 58,
   "id": "c5476ed4-7f8b-440b-ba67-27c55035418a",
   "metadata": {
    "tags": []
   },
   "outputs": [
    {
     "data": {
      "text/plain": [
       "False"
      ]
     },
     "execution_count": 58,
     "metadata": {},
     "output_type": "execute_result"
    }
   ],
   "source": [
    "array_a_copy = array_a.copy()\n",
    "id(array_a_copy) == id(array_a)"
   ]
  },
  {
   "cell_type": "markdown",
   "id": "a10c3274-59b9-4422-a566-88ecd5a9d840",
   "metadata": {},
   "source": [
    "### Randomness\n",
    "\n",
    "NumPy provides utilities to generate pseudorandom numbers.\n",
    "\n",
    "Modern way to generate random numbers in NumPy is via _Generator_ class instance."
   ]
  },
  {
   "cell_type": "code",
   "execution_count": 59,
   "id": "46f93101-fc5c-49aa-9b43-081af22b0c24",
   "metadata": {
    "tags": []
   },
   "outputs": [
    {
     "data": {
      "text/plain": [
       "Generator(PCG64) at 0x7B3AE3523680"
      ]
     },
     "execution_count": 59,
     "metadata": {},
     "output_type": "execute_result"
    }
   ],
   "source": [
    "rng = np.random.default_rng()\n",
    "rng"
   ]
  },
  {
   "cell_type": "code",
   "execution_count": 60,
   "id": "c99fc973-c1f3-4617-be95-3b2283ecffd1",
   "metadata": {
    "tags": []
   },
   "outputs": [
    {
     "name": "stdout",
     "output_type": "stream",
     "text": [
      "0.24166992877004856\n",
      "[[7 2]\n",
      " [9 6]]\n",
      "[0.75659889 0.40993761 0.05687322 0.17129482 0.27265658]\n"
     ]
    }
   ],
   "source": [
    "print(\n",
    "    rng.random()\n",
    ")\n",
    "print(\n",
    "    rng.integers(low=1, high=10, size=(2,2))\n",
    ")\n",
    "print(\n",
    "    rng.standard_exponential(size=5)\n",
    ")"
   ]
  },
  {
   "cell_type": "code",
   "execution_count": 61,
   "id": "a946cc4c-d78c-48d6-aa10-bf68060d8c57",
   "metadata": {
    "tags": []
   },
   "outputs": [
    {
     "data": {
      "text/plain": [
       "array([8, 3, 5, 2, 9])"
      ]
     },
     "execution_count": 61,
     "metadata": {},
     "output_type": "execute_result"
    }
   ],
   "source": [
    "# random choice from array's elements\n",
    "rng.choice(np.arange(10), 5)"
   ]
  },
  {
   "cell_type": "code",
   "execution_count": 62,
   "id": "63a660b2-3951-42c9-b3a2-784ed0f67599",
   "metadata": {
    "tags": []
   },
   "outputs": [
    {
     "data": {
      "text/plain": [
       "array([[2, 1, 1],\n",
       "       [7, 6, 6]])"
      ]
     },
     "execution_count": 62,
     "metadata": {},
     "output_type": "execute_result"
    }
   ],
   "source": [
    "rng.choice(np.arange(10).reshape(2, -1), 3, axis=1)"
   ]
  },
  {
   "cell_type": "code",
   "execution_count": 63,
   "id": "664dbc9a-9a82-4609-b728-a64ec5f09b52",
   "metadata": {
    "tags": []
   },
   "outputs": [
    {
     "name": "stdout",
     "output_type": "stream",
     "text": [
      "[[ 0  1  2]\n",
      " [ 3  4  5]\n",
      " [ 6  7  8]\n",
      " [ 9 10 11]\n",
      " [12 13 14]] \n",
      "\n",
      "[[ 3  4  5]\n",
      " [ 9 10 11]\n",
      " [12 13 14]\n",
      " [ 0  1  2]\n",
      " [ 6  7  8]]\n"
     ]
    }
   ],
   "source": [
    "# shuffle array's element IN PLACE!\n",
    "\n",
    "ar = np.arange(15).reshape(5, -1)\n",
    "print(ar, '\\n')\n",
    "\n",
    "rng.shuffle(ar)\n",
    "\n",
    "print(ar)"
   ]
  },
  {
   "cell_type": "markdown",
   "id": "e6821c18-422b-4977-b136-8be5c0af960c",
   "metadata": {},
   "source": [
    "### Universal functions (_ufuncs_)\n",
    "\n",
    "Functions like _np.add_, _np.subtract_ are examples of NumPy [universal functions](https://numpy.org/doc/stable/reference/ufuncs.html).\n",
    "They can be used directly, but they have also some convenient utilities."
   ]
  },
  {
   "cell_type": "code",
   "execution_count": 64,
   "id": "da5267f3-fc9e-4395-9676-05f167ba666a",
   "metadata": {
    "tags": []
   },
   "outputs": [
    {
     "data": {
      "text/plain": [
       "array([[11, 12, 13],\n",
       "       [21, 22, 23],\n",
       "       [31, 32, 33]])"
      ]
     },
     "execution_count": 64,
     "metadata": {},
     "output_type": "execute_result"
    }
   ],
   "source": [
    "ar1"
   ]
  },
  {
   "cell_type": "code",
   "execution_count": 65,
   "id": "2eaf52b8-27b7-41f2-b492-7ac68a781303",
   "metadata": {
    "tags": []
   },
   "outputs": [
    {
     "data": {
      "text/plain": [
       "array([[10, 10, 10],\n",
       "       [20, 20, 20],\n",
       "       [30, 30, 30]])"
      ]
     },
     "execution_count": 65,
     "metadata": {},
     "output_type": "execute_result"
    }
   ],
   "source": [
    "ar2"
   ]
  },
  {
   "cell_type": "code",
   "execution_count": 66,
   "id": "521f84f6-3da2-46de-8557-f2c9cd56feee",
   "metadata": {
    "tags": []
   },
   "outputs": [
    {
     "data": {
      "text/plain": [
       "array([[21, 22, 23],\n",
       "       [41, 42, 43],\n",
       "       [61, 62, 63]])"
      ]
     },
     "execution_count": 66,
     "metadata": {},
     "output_type": "execute_result"
    }
   ],
   "source": [
    "np.add(ar1, ar2)"
   ]
  },
  {
   "cell_type": "code",
   "execution_count": 67,
   "id": "cf7d7000-3d06-4c6f-95b3-60155e542b25",
   "metadata": {
    "tags": []
   },
   "outputs": [
    {
     "data": {
      "text/plain": [
       "array([[-0.99999021, -0.53657292,  0.42016704],\n",
       "       [ 0.83665564, -0.00885131, -0.8462204 ],\n",
       "       [-0.40403765,  0.55142668,  0.99991186]])"
      ]
     },
     "execution_count": 67,
     "metadata": {},
     "output_type": "execute_result"
    }
   ],
   "source": [
    "np.sin(ar1)"
   ]
  },
  {
   "cell_type": "code",
   "execution_count": 68,
   "id": "c4159ea4-b190-4acd-9100-a7a08d65e630",
   "metadata": {
    "tags": []
   },
   "outputs": [
    {
     "name": "stdout",
     "output_type": "stream",
     "text": [
      "[63 66 69]\n",
      "198\n",
      "[-41 -42 -43]\n"
     ]
    }
   ],
   "source": [
    "# reduce\n",
    "print(\n",
    "    np.add.reduce(ar1, axis=0)\n",
    ")\n",
    "print(\n",
    "    np.add.reduce(ar1, axis=(0,1))\n",
    ")\n",
    "print(\n",
    "    np.subtract.reduce(ar1, axis=0)\n",
    ")"
   ]
  },
  {
   "cell_type": "code",
   "execution_count": 68,
   "id": "bfea2c2b-d5cd-4bae-9c79-d33c3884c8ec",
   "metadata": {
    "tags": []
   },
   "outputs": [
    {
     "data": {
      "text/plain": [
       "array([1, 1, 4])"
      ]
     },
     "execution_count": 68,
     "metadata": {},
     "output_type": "execute_result"
    }
   ],
   "source": [
    "# perform at index (with possible repeats)\n",
    "ar = np.array([0,1,2])\n",
    "np.add.at(ar, [0,2,2], 1)  # IN PLACE !!!\n",
    "ar"
   ]
  },
  {
   "cell_type": "code",
   "execution_count": 69,
   "id": "3654b664-4c76-4b38-a9e7-b309e048d57c",
   "metadata": {
    "tags": []
   },
   "outputs": [
    {
     "data": {
      "text/plain": [
       "array([  1,   2,   6,  24, 120])"
      ]
     },
     "execution_count": 69,
     "metadata": {},
     "output_type": "execute_result"
    }
   ],
   "source": [
    "# accumulate\n",
    "np.multiply.accumulate(np.arange(1, 6))"
   ]
  },
  {
   "cell_type": "code",
   "execution_count": 70,
   "id": "ab9fb94c-d441-4568-b213-a2332b0638a2",
   "metadata": {
    "tags": []
   },
   "outputs": [
    {
     "data": {
      "text/plain": [
       "array([[ -9, -19, -29],\n",
       "       [ -8, -18, -28],\n",
       "       [ -7, -17, -27],\n",
       "       [ -6, -16, -26],\n",
       "       [ -5, -15, -25]])"
      ]
     },
     "execution_count": 70,
     "metadata": {},
     "output_type": "execute_result"
    }
   ],
   "source": [
    "# create matrix A, where\n",
    "# element A[i, j] = vector_a[i] - vector_b[j]\n",
    "\n",
    "vector_a = np.array([1,2,3,4,5])\n",
    "vector_b = np.array([10, 20, 30])\n",
    "np.subtract.outer(vector_a, vector_b)"
   ]
  }
 ],
 "metadata": {
  "kernelspec": {
   "display_name": "Python 3 (ipykernel)",
   "language": "python",
   "name": "python3"
  },
  "language_info": {
   "codemirror_mode": {
    "name": "ipython",
    "version": 3
   },
   "file_extension": ".py",
   "mimetype": "text/x-python",
   "name": "python",
   "nbconvert_exporter": "python",
   "pygments_lexer": "ipython3",
   "version": "3.12.3"
  }
 },
 "nbformat": 4,
 "nbformat_minor": 5
}
